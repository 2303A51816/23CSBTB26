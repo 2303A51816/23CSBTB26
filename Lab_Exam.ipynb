{
  "nbformat": 4,
  "nbformat_minor": 0,
  "metadata": {
    "colab": {
      "provenance": [],
      "authorship_tag": "ABX9TyM9s5qsAg1cP16tnqOtn2jf",
      "include_colab_link": true
    },
    "kernelspec": {
      "name": "python3",
      "display_name": "Python 3"
    },
    "language_info": {
      "name": "python"
    }
  },
  "cells": [
    {
      "cell_type": "markdown",
      "metadata": {
        "id": "view-in-github",
        "colab_type": "text"
      },
      "source": [
        "<a href=\"https://colab.research.google.com/github/2303A51816/23CSBTB26/blob/main/Lab_Exam.ipynb\" target=\"_parent\"><img src=\"https://colab.research.google.com/assets/colab-badge.svg\" alt=\"Open In Colab\"/></a>"
      ]
    },
    {
      "cell_type": "code",
      "execution_count": 2,
      "metadata": {
        "colab": {
          "base_uri": "https://localhost:8080/"
        },
        "id": "ldshvGKhcgGx",
        "outputId": "63ffb462-e2db-46aa-c13b-9c848c571806"
      },
      "outputs": [
        {
          "output_type": "stream",
          "name": "stdout",
          "text": [
            "   Student ID Student Country  Question ID  Type of Answer Question Level  \\\n",
            "0         647         Ireland           77               0          Basic   \n",
            "1          41        Portugal           77               1          Basic   \n",
            "2         340        Portugal           77               1          Basic   \n",
            "3         641           Italy           77               0          Basic   \n",
            "4         669        Portugal           77               1          Basic   \n",
            "\n",
            "        Topic    Subtopic                                           Keywords  \n",
            "0  Statistics  Statistics  Stem and Leaf diagram,Relative frequency,Sampl...  \n",
            "1  Statistics  Statistics  Stem and Leaf diagram,Relative frequency,Sampl...  \n",
            "2  Statistics  Statistics  Stem and Leaf diagram,Relative frequency,Sampl...  \n",
            "3  Statistics  Statistics  Stem and Leaf diagram,Relative frequency,Sampl...  \n",
            "4  Statistics  Statistics  Stem and Leaf diagram,Relative frequency,Sampl...  \n"
          ]
        }
      ],
      "source": [
        "import pandas as pd\n",
        "import numpy as np\n",
        "file_path = 'MathE dataset (4).csv'\n",
        "\n",
        "data = pd.read_csv(file_path, delimiter=';', encoding='latin-1')\n",
        "\n",
        "print(data.head())"
      ]
    },
    {
      "cell_type": "markdown",
      "source": [
        "##Identify the Most Difficult Math Topic"
      ],
      "metadata": {
        "id": "fmXORMglfqbo"
      }
    },
    {
      "cell_type": "code",
      "source": [
        "hardest_topic = data[data['Type of Answer'] == 0].groupby('Topic').size().idxmax()\n",
        "\n",
        "print(f\"The most difficult math topic is: {hardest_topic}\")\n"
      ],
      "metadata": {
        "colab": {
          "base_uri": "https://localhost:8080/"
        },
        "id": "bFVmH0WRfVzX",
        "outputId": "e9d45a8f-503f-47a1-82ae-4aea94afb4b5"
      },
      "execution_count": 3,
      "outputs": [
        {
          "output_type": "stream",
          "name": "stdout",
          "text": [
            "The most difficult math topic is: Linear Algebra\n"
          ]
        }
      ]
    },
    {
      "cell_type": "markdown",
      "source": [
        "##List the Top 5 Math Sub-Topics"
      ],
      "metadata": {
        "id": "IXWp7kOafv1w"
      }
    },
    {
      "cell_type": "code",
      "source": [
        "top_subtopics = data['Subtopic'].value_counts().head(5)\n",
        "\n",
        "print(\"Top 5 math sub-topics:\")\n",
        "print(top_subtopics)\n"
      ],
      "metadata": {
        "colab": {
          "base_uri": "https://localhost:8080/"
        },
        "id": "1eJeCduWfZC-",
        "outputId": "d675970d-7933-48a6-8f72-ee1149eb9d53"
      },
      "execution_count": 4,
      "outputs": [
        {
          "output_type": "stream",
          "name": "stdout",
          "text": [
            "Top 5 math sub-topics:\n",
            "Subtopic\n",
            "Vector Spaces                                         2749\n",
            "Linear Transformations                                2127\n",
            "Complex Numbers                                        592\n",
            "Algebraic expressions, Equations, and Inequalities     496\n",
            "Linear Systems                                         420\n",
            "Name: count, dtype: int64\n"
          ]
        }
      ]
    },
    {
      "cell_type": "markdown",
      "source": [
        "##Analyze Question Levels"
      ],
      "metadata": {
        "id": "5ahAv6rqfykm"
      }
    },
    {
      "cell_type": "code",
      "source": [
        "question_levels = data['Question Level'].value_counts()\n",
        "\n",
        "print(\"Question levels most solved:\")\n",
        "print(question_levels)\n"
      ],
      "metadata": {
        "colab": {
          "base_uri": "https://localhost:8080/"
        },
        "id": "TRzPCHDzfbgB",
        "outputId": "d9190617-532d-4895-a927-065fc1c0c932"
      },
      "execution_count": 5,
      "outputs": [
        {
          "output_type": "stream",
          "name": "stdout",
          "text": [
            "Question levels most solved:\n",
            "Question Level\n",
            "Basic       7844\n",
            "Advanced    1702\n",
            "Name: count, dtype: int64\n"
          ]
        }
      ]
    },
    {
      "cell_type": "markdown",
      "source": [
        "##Country with Most Solved Math Problems"
      ],
      "metadata": {
        "id": "fFyv1pOMf1Th"
      }
    },
    {
      "cell_type": "code",
      "source": [
        "top_country = data['Student Country'].value_counts().idxmax()\n",
        "\n",
        "print(f\"The country with the most solved math problems is: {top_country}\")\n"
      ],
      "metadata": {
        "colab": {
          "base_uri": "https://localhost:8080/"
        },
        "id": "qdg2sb_kfetG",
        "outputId": "b37d7910-27f1-44c3-97f3-abbafde68eb5"
      },
      "execution_count": 6,
      "outputs": [
        {
          "output_type": "stream",
          "name": "stdout",
          "text": [
            "The country with the most solved math problems is: Portugal\n"
          ]
        }
      ]
    },
    {
      "cell_type": "markdown",
      "source": [
        "##Top 10 Keywords"
      ],
      "metadata": {
        "id": "xOgj4T8Zf37H"
      }
    },
    {
      "cell_type": "code",
      "source": [
        "from collections import Counter\n",
        "\n",
        "keywords = data['Keywords'].dropna().str.split(',').sum()\n",
        "keyword_counts = Counter(keywords).most_common(10)\n",
        "\n",
        "print(\"Top 10 math-related keywords:\")\n",
        "print(keyword_counts)\n"
      ],
      "metadata": {
        "colab": {
          "base_uri": "https://localhost:8080/"
        },
        "id": "HEXhJtAwfhEB",
        "outputId": "423e2ee9-58c4-4468-ba66-49e488afd3d2"
      },
      "execution_count": 7,
      "outputs": [
        {
          "output_type": "stream",
          "name": "stdout",
          "text": [
            "Top 10 math-related keywords:\n",
            "[('Span', 1844), ('Subspace', 1465), ('Linear combination', 1254), ('Basis', 1112), ('Linear application', 824), ('Linearity', 733), ('Range', 713), ('Kernel', 713), ('Dimension', 615), ('Isomorphism', 587)]\n"
          ]
        }
      ]
    },
    {
      "cell_type": "code",
      "source": [],
      "metadata": {
        "id": "QPpQgfVNf7E8"
      },
      "execution_count": null,
      "outputs": []
    }
  ]
}